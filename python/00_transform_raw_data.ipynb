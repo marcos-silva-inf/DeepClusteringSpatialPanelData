{
  "nbformat": 4,
  "nbformat_minor": 0,
  "metadata": {
    "colab": {
      "provenance": [],
      "authorship_tag": "ABX9TyOBUOZoeHk5P3E1fb6sr5D7",
      "include_colab_link": true
    },
    "kernelspec": {
      "name": "python3",
      "display_name": "Python 3"
    },
    "language_info": {
      "name": "python"
    }
  },
  "cells": [
    {
      "cell_type": "markdown",
      "metadata": {
        "id": "view-in-github",
        "colab_type": "text"
      },
      "source": [
        "<a href=\"https://colab.research.google.com/github/marcos-silva-inf/DeepClusteringSpatialPanelData/blob/main/python/00_transform_raw_data.ipynb\" target=\"_parent\"><img src=\"https://colab.research.google.com/assets/colab-badge.svg\" alt=\"Open In Colab\"/></a>"
      ]
    },
    {
      "cell_type": "code",
      "execution_count": null,
      "metadata": {
        "id": "kNLQLQNVT2wo"
      },
      "outputs": [],
      "source": [
        "import h5py\n",
        "import numpy as np\n",
        "import pandas as pd\n",
        "import tensorflow as tf\n",
        "import keras\n",
        "import keras.backend as K\n",
        "import csv\n",
        "from keras import layers\n",
        "from sklearn.model_selection import train_test_split\n",
        "from keras import regularizers\n"
      ]
    },
    {
      "cell_type": "code",
      "source": [
        "from google.colab import drive\n",
        "drive.mount('/content/drive/')"
      ],
      "metadata": {
        "id": "4lQuNE2KUCCQ"
      },
      "execution_count": null,
      "outputs": []
    },
    {
      "cell_type": "code",
      "source": [
        "df = pd.read_csv('/content/drive/MyDrive/DATA/PAPER2023/data/raw-data-entropy-diversity-indices_v2.csv', sep=';', low_memory=False)\n",
        "\n",
        "var = [0,1]\n",
        "herd = list(range(12, 23))\n",
        "var.extend(herd)\n",
        "prodani = list(range(23, 28))\n",
        "var.extend(prodani)\n",
        "vl_t = list(range(96, 127))\n",
        "var.extend(vl_t)\n",
        "vl_p = list(range(127, 163))\n",
        "var.extend(vl_p)\n",
        "plant_t = list(range(163, 194))\n",
        "var.extend(plant_t)\n",
        "aqua = list(range(230, 254))\n",
        "var.extend(aqua)\n",
        "ext = list(range(254, 297))\n",
        "var.extend(ext)\n",
        "silv = list(range(297, 312))\n",
        "var.extend(silv)\n",
        "\n",
        "df = df.fillna(0)\n",
        "\n",
        "def add_T(row, v):\n",
        "   tmp_total = 0\n",
        "   for i in range(len(v)):\n",
        "      tmp_total = tmp_total + row[v[i]]\n",
        "   return tmp_total\n",
        "\n",
        "df['T1'] = df.apply(add_T, v=herd, axis=1)\n",
        "df['T2'] = df.apply(add_T, v=prodani, axis=1)\n",
        "df['T3'] = df.apply(add_T, v=vl_t, axis=1)\n",
        "df['T4'] = df.apply(add_T, v=vl_p, axis=1)\n",
        "df['T5'] = df.apply(add_T, v=plant_t, axis=1)\n",
        "df['T6'] = df.apply(add_T, v=aqua, axis=1)\n",
        "df['T7'] = df.apply(add_T, v=ext, axis=1)\n",
        "df['T8'] = df.apply(add_T, v=silv, axis=1)\n",
        "\n",
        "df.iloc[:, herd] = df.iloc[:,herd].div(df.T1, axis=0).replace(np.inf, 0)\n",
        "df.iloc[:, prodani] = df.iloc[:,prodani].div(df.T2, axis=0).replace(np.inf, 0)\n",
        "df.iloc[:, vl_t] = df.iloc[:,vl_t].div(df.T3, axis=0).replace(np.inf, 0)\n",
        "df.iloc[:, vl_p] = df.iloc[:,vl_p].div(df.T4, axis=0).replace(np.inf, 0)\n",
        "df.iloc[:, plant_t] = df.iloc[:,plant_t].div(df.T5, axis=0).replace(np.inf, 0)\n",
        "df.iloc[:, aqua] = df.iloc[:,aqua].div(df.T6, axis=0).replace(np.inf, 0)\n",
        "df.iloc[:, ext] = df.iloc[:,ext].div(df.T7, axis=0).replace(np.inf, 0)\n",
        "df.iloc[:, silv] = df.iloc[:,silv].div(df.T8, axis=0).replace(np.inf, 0)\n",
        "\n",
        "df = df.fillna(0)\n",
        "\n",
        "panel_data = df.iloc[:,var]\n",
        "\n",
        "var_list = list(range(2, 198))\n",
        "panel_data_num = panel_data.iloc[:,var_list]\n",
        "\n",
        "\n",
        "normalized_panel_data=(panel_data_num-panel_data_num.min())/(panel_data_num.max()-panel_data_num.min())\n",
        "\n",
        "result = pd.concat([panel_data.iloc[:,[0,1]], normalized_panel_data.iloc[:,:]], axis=1, join=\"inner\")\n",
        "\n",
        "id = result.CODIBGE.unique()\n",
        "colnames = result.columns\n",
        "\n",
        "data_image = np.zeros((5570,20,196))\n",
        "\n",
        "m = result.shape[0]\n",
        "for i in range(m):\n",
        "  if (i + 1) % 20 == 0:\n",
        "    j = 19\n",
        "  else:\n",
        "    j = i + 1 - 20*((i + 1) // 20) - 1\n",
        "  index = (i + 1) // 20 - 1\n",
        "  for k in range(196) :\n",
        "      data_image[index][j][k] = result.loc[ i , colnames[k + 2]]  \n",
        "\n",
        "id = id.reshape(5570,1)"
      ],
      "metadata": {
        "id": "8wjL1L1UUF9v"
      },
      "execution_count": null,
      "outputs": []
    },
    {
      "cell_type": "code",
      "source": [
        "result.to_csv(\"/content/drive/MyDrive/DATA/PAPER2023/data/raw-data-min-max-normalized.csv\")"
      ],
      "metadata": {
        "id": "BXCVcVrQULrF"
      },
      "execution_count": null,
      "outputs": []
    }
  ]
}